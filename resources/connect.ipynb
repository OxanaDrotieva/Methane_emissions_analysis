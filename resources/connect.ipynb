{
 "cells": [
  {
   "cell_type": "code",
   "execution_count": 7,
   "id": "90bff4e6-b41d-4291-bb60-f841005cdc8f",
   "metadata": {},
   "outputs": [],
   "source": [
    "# connect to database\n",
    "import sqlalchemy\n",
    "from sqlalchemy.ext.automap import automap_base\n",
    "from sqlalchemy.orm import Session\n",
    "from sqlalchemy import create_engine, func\n",
    "from psycopg2 import sql\n",
    "import pandas as pd"
   ]
  },
  {
   "cell_type": "code",
   "execution_count": 3,
   "id": "4ed5dc33-e4f7-46d4-98c8-161ab7da781e",
   "metadata": {},
   "outputs": [],
   "source": [
    "# get password\n",
    "from config import db_password\n",
    "from config import user_name\n",
    "rds_endpoint = 'methanedb.cri33yx04get.us-east-1.rds.amazonaws.com'\n",
    "port = '5432'\n",
    "DB_name = 'methaneAnalysis'\n",
    "url = f'postgresql://{user_name}:{db_password}@{rds_endpoint}:{port}/{DB_name}'"
   ]
  },
  {
   "cell_type": "code",
   "execution_count": 4,
   "id": "b908a4e8-aab5-450a-a088-08b53b958300",
   "metadata": {},
   "outputs": [],
   "source": [
    "# sql alchemy create_engine postgresql://{user}:{password}@{rds endpoint}:{port}/{DB name}\n",
    "engine = create_engine(url)"
   ]
  },
  {
   "cell_type": "code",
   "execution_count": 5,
   "id": "99b87861",
   "metadata": {},
   "outputs": [],
   "source": [
    "Base = automap_base()\n",
    "Base.prepare(engine, reflect=True)"
   ]
  },
  {
   "cell_type": "code",
   "execution_count": 8,
   "id": "2a91489f",
   "metadata": {},
   "outputs": [],
   "source": [
    "# query df = pd.read_sql(query.statement, connection)\n",
    "# merged table\n",
    "merged_df = pd.read_sql('SELECT * FROM merged_data', engine)\n",
    "# sector specific table\n",
    "sector_total_df = pd.read_sql('SELECT * FROM sector_total', engine)"
   ]
  },
  {
   "cell_type": "code",
   "execution_count": 9,
   "id": "c9698acb",
   "metadata": {},
   "outputs": [
    {
     "data": {
      "text/html": [
       "<div>\n",
       "<style scoped>\n",
       "    .dataframe tbody tr th:only-of-type {\n",
       "        vertical-align: middle;\n",
       "    }\n",
       "\n",
       "    .dataframe tbody tr th {\n",
       "        vertical-align: top;\n",
       "    }\n",
       "\n",
       "    .dataframe thead th {\n",
       "        text-align: right;\n",
       "    }\n",
       "</style>\n",
       "<table border=\"1\" class=\"dataframe\">\n",
       "  <thead>\n",
       "    <tr style=\"text-align: right;\">\n",
       "      <th></th>\n",
       "      <th>year</th>\n",
       "      <th>country</th>\n",
       "      <th>sector</th>\n",
       "      <th>emissions</th>\n",
       "      <th>gdp</th>\n",
       "    </tr>\n",
       "  </thead>\n",
       "  <tbody>\n",
       "    <tr>\n",
       "      <th>0</th>\n",
       "      <td>2018</td>\n",
       "      <td>Afghanistan</td>\n",
       "      <td>Agriculture</td>\n",
       "      <td>10.45</td>\n",
       "      <td>18.053229</td>\n",
       "    </tr>\n",
       "    <tr>\n",
       "      <th>1</th>\n",
       "      <td>2018</td>\n",
       "      <td>Afghanistan</td>\n",
       "      <td>Energy</td>\n",
       "      <td>67.91</td>\n",
       "      <td>18.053229</td>\n",
       "    </tr>\n",
       "    <tr>\n",
       "      <th>2</th>\n",
       "      <td>2018</td>\n",
       "      <td>Afghanistan</td>\n",
       "      <td>Fugitive Emissions</td>\n",
       "      <td>2.22</td>\n",
       "      <td>18.053229</td>\n",
       "    </tr>\n",
       "    <tr>\n",
       "      <th>3</th>\n",
       "      <td>2018</td>\n",
       "      <td>Afghanistan</td>\n",
       "      <td>Industrial Processes</td>\n",
       "      <td>0.00</td>\n",
       "      <td>18.053229</td>\n",
       "    </tr>\n",
       "    <tr>\n",
       "      <th>4</th>\n",
       "      <td>2018</td>\n",
       "      <td>Afghanistan</td>\n",
       "      <td>Land-Use Change and Forestry</td>\n",
       "      <td>0.00</td>\n",
       "      <td>18.053229</td>\n",
       "    </tr>\n",
       "  </tbody>\n",
       "</table>\n",
       "</div>"
      ],
      "text/plain": [
       "   year      country                        sector  emissions        gdp\n",
       "0  2018  Afghanistan                   Agriculture      10.45  18.053229\n",
       "1  2018  Afghanistan                        Energy      67.91  18.053229\n",
       "2  2018  Afghanistan            Fugitive Emissions       2.22  18.053229\n",
       "3  2018  Afghanistan          Industrial Processes       0.00  18.053229\n",
       "4  2018  Afghanistan  Land-Use Change and Forestry       0.00  18.053229"
      ]
     },
     "execution_count": 9,
     "metadata": {},
     "output_type": "execute_result"
    }
   ],
   "source": [
    "merged_df.head()"
   ]
  }
 ],
 "metadata": {
  "kernelspec": {
   "display_name": "mlenv",
   "language": "python",
   "name": "mlenv"
  },
  "language_info": {
   "codemirror_mode": {
    "name": "ipython",
    "version": 3
   },
   "file_extension": ".py",
   "mimetype": "text/x-python",
   "name": "python",
   "nbconvert_exporter": "python",
   "pygments_lexer": "ipython3",
   "version": "3.7.11"
  }
 },
 "nbformat": 4,
 "nbformat_minor": 5
}
