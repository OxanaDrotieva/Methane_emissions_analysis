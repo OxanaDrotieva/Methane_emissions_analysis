{
 "cells": [
  {
   "cell_type": "code",
   "execution_count": 13,
   "id": "90bff4e6-b41d-4291-bb60-f841005cdc8f",
   "metadata": {},
   "outputs": [],
   "source": [
    "# connect to database\n",
    "from sqlalchemy import create_engine\n",
    "import pandas as pd\n",
    "import psycopg2\n",
    "import sqlalchemy\n"
   ]
  },
  {
   "cell_type": "code",
   "execution_count": 5,
   "id": "4ed5dc33-e4f7-46d4-98c8-161ab7da781e",
   "metadata": {},
   "outputs": [],
   "source": [
    "# get password\n",
    "from config import db_password\n",
    "from config import user_name\n",
    "from config import host_name"
   ]
  },
  {
   "cell_type": "code",
   "execution_count": 6,
   "id": "b908a4e8-aab5-450a-a088-08b53b958300",
   "metadata": {},
   "outputs": [],
   "source": [
    "engine = psycopg2.connect(\n",
    "    database= 'methaneAnalysis',\n",
    "    user= user_name,\n",
    "    password= db_password,\n",
    "    host= host_name,\n",
    "    port='5432'\n",
    ")"
   ]
  }
 ],
 "metadata": {
  "kernelspec": {
   "display_name": "mlenv",
   "language": "python",
   "name": "mlenv"
  },
  "language_info": {
   "codemirror_mode": {
    "name": "ipython",
    "version": 3
   },
   "file_extension": ".py",
   "mimetype": "text/x-python",
   "name": "python",
   "nbconvert_exporter": "python",
   "pygments_lexer": "ipython3",
   "version": "3.7.11"
  }
 },
 "nbformat": 4,
 "nbformat_minor": 5
}
